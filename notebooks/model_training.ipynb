{
 "cells": [
  {
   "cell_type": "markdown",
   "metadata": {},
   "source": [
    "# MODEL TRAINING\n",
    "We will create the model that will predict the **target variable** present in the data set. More than one model will be used to evaluate the result."
   ]
  },
  {
   "cell_type": "code",
   "execution_count": 243,
   "metadata": {},
   "outputs": [],
   "source": [
    "import pandas as pd\n",
    "import numpy as np\n",
    "from sklearn.preprocessing import StandardScaler"
   ]
  },
  {
   "cell_type": "code",
   "execution_count": 244,
   "metadata": {},
   "outputs": [],
   "source": [
    "data = \"/Users/leona/Desktop/Projeto 1/mammogram-result-prediction/data/processed/processed_data.csv\"\n",
    "df = pd.read_csv(data, sep=\",\")"
   ]
  },
  {
   "cell_type": "code",
   "execution_count": 245,
   "metadata": {},
   "outputs": [],
   "source": [
    "feature_names = [\"Age\", \"Shape\", \"Margin\", \"Density\"]\n",
    "feature_transformed = df[feature_names].values\n",
    "target_transformed = df[\"Severity\"].values"
   ]
  },
  {
   "cell_type": "code",
   "execution_count": 246,
   "metadata": {},
   "outputs": [],
   "source": [
    "standard = StandardScaler()\n",
    "feature_scaled = standard.fit_transform(feature_transformed)"
   ]
  },
  {
   "cell_type": "code",
   "execution_count": 247,
   "metadata": {},
   "outputs": [],
   "source": [
    "from tensorflow.keras.layers import Dense\n",
    "from tensorflow.keras.models import Sequential\n",
    "from tensorflow.keras.layers import Dropout\n",
    "from tensorflow.keras.regularizers import l2\n",
    "\n",
    "def create_neuralNet():\n",
    "    model = Sequential()\n",
    "    #4 feature inputs going into an 6-unit layer (more does not seem to help - in fact you can go down to 4)\n",
    "    model.add(Dense(8, input_dim=4, kernel_initializer=\"normal\", activation=\"relu\"))\n",
    "    # \"Deep Learning\" turns out to be unnecessary - this additional hidden layer doesn't help either.\n",
    "    # model.add(Dense(8, kernel_initializer=\"normal\", activation=\"relu\"))\n",
    "    # Output layer with a binary classification (benign or malignant)\n",
    "    model.add(Dense(1, kernel_initializer=\"normal\", activation=\"sigmoid\"))\n",
    "    # Compile model; rmsprop seemed to work best\n",
    "    model.compile(loss=\"binary_crossentropy\", optimizer=\"adam\", metrics=[\"accuracy\"])\n",
    "    return model"
   ]
  },
  {
   "cell_type": "code",
   "execution_count": 248,
   "metadata": {},
   "outputs": [
    {
     "data": {
      "text/plain": [
       "0.8038341903129563"
      ]
     },
     "execution_count": 248,
     "metadata": {},
     "output_type": "execute_result"
    }
   ],
   "source": [
    "from sklearn.model_selection import cross_val_score\n",
    "from scikeras.wrappers import KerasClassifier\n",
    "\n",
    "# Wrap out Keras model in an estimator compatible with scikit_learn\n",
    "estimator = KerasClassifier(build_fn=create_neuralNet, epochs=100, verbose=0, batch_size=50)\n",
    "# Now we can use scikit_learn's cross_val_score to evaluate this model identically to the others\n",
    "cv_scores = cross_val_score(estimator, feature_scaled, target_transformed, cv=5, n_jobs=-1)\n",
    "cv_scores.mean()"
   ]
  },
  {
   "cell_type": "code",
   "execution_count": 249,
   "metadata": {},
   "outputs": [
    {
     "data": {
      "text/plain": [
       "0.8151018853551705"
      ]
     },
     "execution_count": 249,
     "metadata": {},
     "output_type": "execute_result"
    }
   ],
   "source": [
    "from sklearn.ensemble import RandomForestClassifier\n",
    "\n",
    "randF = RandomForestClassifier(n_estimators=100, criterion=\"entropy\", max_depth=5, min_samples_split=5, n_jobs=-1)\n",
    "\n",
    "cv = cross_val_score(randF, feature_scaled, target_transformed, cv=5, n_jobs=-1)\n",
    "cv.mean()\n"
   ]
  },
  {
   "cell_type": "code",
   "execution_count": 250,
   "metadata": {},
   "outputs": [
    {
     "data": {
      "text/plain": [
       "0.8162318288579952"
      ]
     },
     "execution_count": 250,
     "metadata": {},
     "output_type": "execute_result"
    }
   ],
   "source": [
    "from sklearn.ensemble import BaggingClassifier\n",
    "\n",
    "bagi1 = BaggingClassifier(estimator=RandomForestClassifier(n_estimators=100, criterion=\"entropy\", max_depth=5, min_samples_split=5, n_jobs=-1),  n_estimators=20, max_samples=0.7, bootstrap=True, n_jobs=-1)\n",
    "\n",
    "cv_ = cross_val_score(bagii, feature_scaled, target_transformed, cv=5, n_jobs=-1)\n",
    "cv_.mean()"
   ]
  },
  {
   "cell_type": "code",
   "execution_count": 251,
   "metadata": {},
   "outputs": [
    {
     "data": {
      "text/plain": [
       "0.8162254808607885"
      ]
     },
     "execution_count": 251,
     "metadata": {},
     "output_type": "execute_result"
    }
   ],
   "source": [
    "from sklearn.ensemble import GradientBoostingClassifier\n",
    "boost = GradientBoostingClassifier(loss=\"log_loss\", learning_rate=0.1, n_estimators=100, subsample=1, min_samples_split=2, max_depth=2)\n",
    "\n",
    "cv_1 = cross_val_score(boost, feature_scaled, target_transformed, cv=5, n_jobs=-1)\n",
    "cv_1.mean()"
   ]
  },
  {
   "cell_type": "code",
   "execution_count": 252,
   "metadata": {},
   "outputs": [
    {
     "data": {
      "text/plain": [
       "0.8072113248270171"
      ]
     },
     "execution_count": 252,
     "metadata": {},
     "output_type": "execute_result"
    }
   ],
   "source": [
    "from sklearn.ensemble import BaggingClassifier\n",
    "\n",
    "bagi2 = BaggingClassifier(estimator=GradientBoostingClassifier(loss=\"log_loss\", learning_rate=0.1, n_estimators=100, subsample=1, min_samples_split=2, max_depth=2),  n_estimators=20, max_samples=0.7, bootstrap=True, n_jobs=-1)\n",
    "\n",
    "cv_ = cross_val_score(bagi2, feature_scaled, target_transformed, cv=5, n_jobs=-1)\n",
    "cv_.mean()"
   ]
  },
  {
   "cell_type": "code",
   "execution_count": 253,
   "metadata": {},
   "outputs": [
    {
     "data": {
      "text/plain": [
       "0.8105948073382848"
      ]
     },
     "execution_count": 253,
     "metadata": {},
     "output_type": "execute_result"
    }
   ],
   "source": [
    "from sklearn.svm import SVC\n",
    "\n",
    "svc = SVC(C=1, kernel=\"rbf\", gamma=\"scale\")\n",
    "\n",
    "cv_2 = cross_val_score(svc, feature_scaled, target_transformed, cv=5, n_jobs=-1)\n",
    "cv_2.mean()"
   ]
  },
  {
   "cell_type": "code",
   "execution_count": 254,
   "metadata": {},
   "outputs": [
    {
     "data": {
      "text/plain": [
       "0.80384688630737"
      ]
     },
     "execution_count": 254,
     "metadata": {},
     "output_type": "execute_result"
    }
   ],
   "source": [
    "from sklearn.ensemble import BaggingClassifier\n",
    "\n",
    "bagi3 = BaggingClassifier(SVC(C=1, kernel=\"rbf\", gamma=\"scale\"),  n_estimators=20, max_samples=0.7, bootstrap=True, n_jobs=-1)\n",
    "\n",
    "cv_ = cross_val_score(bagi3, feature_scaled, target_transformed, cv=5, n_jobs=-1)\n",
    "cv_.mean()"
   ]
  }
 ],
 "metadata": {
  "kernelspec": {
   "display_name": "Python 3",
   "language": "python",
   "name": "python3"
  },
  "language_info": {
   "codemirror_mode": {
    "name": "ipython",
    "version": 3
   },
   "file_extension": ".py",
   "mimetype": "text/x-python",
   "name": "python",
   "nbconvert_exporter": "python",
   "pygments_lexer": "ipython3",
   "version": "3.12.0"
  }
 },
 "nbformat": 4,
 "nbformat_minor": 2
}
